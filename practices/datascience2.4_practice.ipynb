{
 "cells": [
  {
   "cell_type": "code",
   "execution_count": 5,
   "metadata": {},
   "outputs": [
    {
     "name": "stdout",
     "output_type": "stream",
     "text": [
      "1372.125\n",
      "0.961\n",
      "[[1264.6875 1372.125 ]\n",
      " [1372.125  1610.75  ]]\n",
      "[[1.         0.96136431]\n",
      " [0.96136431 1.        ]]\n"
     ]
    }
   ],
   "source": [
    "import numpy as np\n",
    "\n",
    "arr2d_data = np.array([[-15,-5],[23,45],[-13,-23],[-76,-67]])\n",
    "#print(arr2d_data)\n",
    "array_x = arr2d_data[:,0]\n",
    "array_y = arr2d_data[:,1]\n",
    "\n",
    "arr2d_cov = np.cov(array_x,array_y,bias=True)\n",
    "arr2d_r = np.corrcoef(array_x,array_y)\n",
    "\n",
    "cov_xy = arr2d_cov[0,1]\n",
    "r_xy = arr2d_r[0,1]\n",
    "\n",
    "print('{0:.3f}'.format(cov_xy))\n",
    "print('{0:.3f}'.format(r_xy))\n",
    "\n",
    "print(arr2d_cov)\n",
    "print(arr2d_r)"
   ]
  },
  {
   "cell_type": "code",
   "execution_count": null,
   "metadata": {},
   "outputs": [],
   "source": []
  }
 ],
 "metadata": {
  "kernelspec": {
   "display_name": "Python 3",
   "language": "python",
   "name": "python3"
  },
  "language_info": {
   "codemirror_mode": {
    "name": "ipython",
    "version": 3
   },
   "file_extension": ".py",
   "mimetype": "text/x-python",
   "name": "python",
   "nbconvert_exporter": "python",
   "pygments_lexer": "ipython3",
   "version": "3.7.3"
  }
 },
 "nbformat": 4,
 "nbformat_minor": 2
}
