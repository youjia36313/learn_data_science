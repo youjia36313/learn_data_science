{
 "cells": [
  {
   "cell_type": "code",
   "execution_count": 1,
   "metadata": {},
   "outputs": [
    {
     "name": "stdout",
     "output_type": "stream",
     "text": [
      "[0 0 0 0 0 0 0 0 1 0 0 0 0 1 0 0 0 0 0 0 1 0 0 0 0 0 0 1 0 0 0 0 0 0 0 0 0\n",
      " 0 1 0 0 0 0 0 0 0 0 0 0 0]\n",
      "5\n"
     ]
    },
    {
     "data": {
      "text/plain": [
       "<BarContainer object of 2 artists>"
      ]
     },
     "execution_count": 1,
     "metadata": {},
     "output_type": "execute_result"
    },
    {
     "data": {
      "image/png": "[encoded data removed]",
      "text/plain": [
       "<Figure size 432x288 with 1 Axes>"
      ]
     },
     "metadata": {
      "needs_background": "light"
     },
     "output_type": "display_data"
    }
   ],
   "source": [
    "%matplotlib inline\n",
    "import numpy as np\n",
    "import matplotlib.pyplot as plt\n",
    "\n",
    "np.random.seed(0)\n",
    "size = 50\n",
    "theta = 0.1\n",
    "array_x = np.random.binomial(1,theta,size)\n",
    "print(array_x)\n",
    "cnt = sum(array_x)\n",
    "print(cnt)\n",
    "array_hor = np.array([0,1])\n",
    "array_ver = np.array([size-cnt,cnt])\n",
    "plt.bar(array_hor,array_ver,tick_label = array_hor)"
   ]
  },
  {
   "cell_type": "code",
   "execution_count": 8,
   "metadata": {},
   "outputs": [
    {
     "name": "stdout",
     "output_type": "stream",
     "text": [
      "[0 0 0 0 0 0 0 0 0 0 1 0 0 0 0 0 0 0 0 0 0 0 0 0 0 1 0 0 1 0 0 0 0 0 0 0 0\n",
      " 0 0 0 0 0 0 0 0 0 0 0 0 0]\n"
     ]
    },
    {
     "data": {
      "text/plain": [
       "<BarContainer object of 2 artists>"
      ]
     },
     "execution_count": 8,
     "metadata": {},
     "output_type": "execute_result"
    },
    {
     "data": {
      "image/png": "[encoded data removed]",
      "text/plain": [
       "<Figure size 432x288 with 1 Axes>"
      ]
     },
     "metadata": {
      "needs_background": "light"
     },
     "output_type": "display_data"
    }
   ],
   "source": [
    "%matplotlib inline\n",
    "import numpy as np\n",
    "import matplotlib.pyplot as plt\n",
    "size = 50\n",
    "theta = 0.1\n",
    "array_x = np.random.binomial(1,theta,size)\n",
    "print(array_x)\n",
    "array_hor = np.array([0,1])\n",
    "array_ver, array_edge = np.histogram(array_x,bins=2)\n",
    "plt.bar(array_hor,array_ver,tick_label=array_hor)"
   ]
  },
  {
   "cell_type": "code",
   "execution_count": 14,
   "metadata": {},
   "outputs": [
    {
     "name": "stdout",
     "output_type": "stream",
     "text": [
      "[5 6 1 4 4 4 2 4 6 3 5 1 1 5 3 2 1 2 6 2 6 1 2 5 4 1 4 6 1 3 4 1 2 4 6 4 4\n",
      " 1 2 2 2 1 3 5 4 4 3 5 3 1]\n",
      "[11  9  6 12  6  6]\n"
     ]
    },
    {
     "data": {
      "text/plain": [
       "<BarContainer object of 6 artists>"
      ]
     },
     "execution_count": 14,
     "metadata": {},
     "output_type": "execute_result"
    },
    {
     "data": {
      "image/png": "[encoded data removed]",
      "text/plain": [
       "<Figure size 432x288 with 1 Axes>"
      ]
     },
     "metadata": {
      "needs_background": "light"
     },
     "output_type": "display_data"
    }
   ],
   "source": [
    "import numpy as np\n",
    "import matplotlib.pyplot as plt\n",
    "\n",
    "size = 55\n",
    "a = 1\n",
    "m = 6\n",
    "np.random.seed(0)\n",
    "size = 50\n",
    "a = 1\n",
    "m = 6\n",
    "array_x = np.random.randint(a,a+m,size)\n",
    "print(array_x)\n",
    "array_hor = np.array(range(a,a+m))\n",
    "array_ver,array_edges = np.histogram(array_x,bins=range(a,a+m+1))\n",
    "print(array_ver)\n",
    "plt.bar(array_hor,array_ver,tick_label=array_hor)"
   ]
  },
  {
   "cell_type": "code",
   "execution_count": 16,
   "metadata": {},
   "outputs": [
    {
     "name": "stdout",
     "output_type": "stream",
     "text": [
      "[ 9  5  6  5  5  8  4  5  4  3  3  7  3  3  4  5  2  1  7  7 10  5  8  8\n",
      "  6  4  4  3  1  5  6  5  5  4  1  7  2  7  6  2  6  5  7  5  4  5 10  6\n",
      "  4  7  3  2  2  6  2  5  3  6  2  4  4  4  8  7 11  3  4  1  4  5  1  2\n",
      "  2  5  5  5  7  8  4  6  4 10  3  8  5  7  3  8  2  1  4  4  4  4  6  4\n",
      " 12  1  6  3]\n"
     ]
    },
    {
     "data": {
      "text/plain": [
       "(array([ 7., 10., 11., 20., 18., 11., 10.,  7.,  1.,  3.,  1.,  1.,  0.]),\n",
       " array([ 1,  2,  3,  4,  5,  6,  7,  8,  9, 10, 11, 12, 13, 14]),\n",
       " <a list of 13 Patch objects>)"
      ]
     },
     "execution_count": 16,
     "metadata": {},
     "output_type": "execute_result"
    },
    {
     "data": {
      "image/png": "[encoded data removed]",
      "text/plain": [
       "<Figure size 432x288 with 1 Axes>"
      ]
     },
     "metadata": {
      "needs_background": "light"
     },
     "output_type": "display_data"
    }
   ],
   "source": [
    "np.random.seed(0)\n",
    "size=100\n",
    "lam=5\n",
    "array_x = np.random.poisson(lam,size)\n",
    "print(array_x)\n",
    "plt.hist(array_x,bins=range(1,15))"
   ]
  },
  {
   "cell_type": "code",
   "execution_count": null,
   "metadata": {},
   "outputs": [],
   "source": []
  }
 ],
 "metadata": {
  "kernelspec": {
   "display_name": "Python 3",
   "language": "python",
   "name": "python3"
  },
  "language_info": {
   "codemirror_mode": {
    "name": "ipython",
    "version": 3
   },
   "file_extension": ".py",
   "mimetype": "text/x-python",
   "name": "python",
   "nbconvert_exporter": "python",
   "pygments_lexer": "ipython3",
   "version": "3.7.3"
  }
 },
 "nbformat": 4,
 "nbformat_minor": 2
}
