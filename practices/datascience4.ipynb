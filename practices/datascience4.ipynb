{
 "cells": [
  {
   "cell_type": "code",
   "execution_count": 2,
   "metadata": {},
   "outputs": [
    {
     "name": "stdout",
     "output_type": "stream",
     "text": [
      "[4.6 5.1 4.8 4.6 4.3 4.9 4.3 5.7 5.9 4.2 5.4 4.6 4.7 5.8 3.2 3.3 3.1 5.5\n",
      " 5.3 5.6 5.9 5.4 4.4 5.3 3.4 4.9 3.4 5.8 4.6 4.2 3.8 5.3 4.4 4.7 3.1 4.9\n",
      " 4.8 4.9 5.8 5.  4.1 4.3 5.1 3.2 5.  5.  3.6 3.4 3.9 4.1]\n"
     ]
    },
    {
     "data": {
      "text/plain": [
       "(array([5., 4., 1., 4., 6., 6., 9., 5., 4., 6.]),\n",
       " array([3.1, 3.3, 3.6, 3.9, 4.2, 4.5, 4.8, 5.1, 5.4, 5.6, 5.9]),\n",
       " <a list of 10 Patch objects>)"
      ]
     },
     "execution_count": 2,
     "metadata": {},
     "output_type": "execute_result"
    },
    {
     "data": {
      "image/png": "[encoded data removed]",
      "text/plain": [
       "<Figure size 432x288 with 1 Axes>"
      ]
     },
     "metadata": {
      "needs_background": "light"
     },
     "output_type": "display_data"
    }
   ],
   "source": [
    "%matplotlib inline\n",
    "import numpy as np\n",
    "import matplotlib.pyplot as plt\n",
    "\n",
    "np.random.seed(0)\n",
    "size = 50\n",
    "alpha = 3.0\n",
    "beta = 6.0\n",
    "\n",
    "array_x = np.random.uniform(alpha,beta,size)\n",
    "\n",
    "np.set_printoptions(precision=1)\n",
    "print(array_x)\n",
    "plt.hist(array_x)"
   ]
  },
  {
   "cell_type": "code",
   "execution_count": 4,
   "metadata": {},
   "outputs": [
    {
     "name": "stdout",
     "output_type": "stream",
     "text": [
      "[ 4.   6.3  4.6  3.9  2.8  5.2  2.9 11.1 16.6  2.4  7.8  3.8  4.2 13.\n",
      "  0.4  0.5  0.1  8.9  7.5 10.2 19.2  8.   3.1  7.6  0.6  5.1  0.8 14.5\n",
      "  3.7  2.7  1.5  7.4  3.   4.2  0.1  4.8  4.7  4.8 14.4  5.7  2.2  2.9\n",
      "  6.   0.3  5.5  5.6  1.2  0.7  1.9  2.3  4.2  2.9 22.3  0.5  1.2  0.9\n",
      "  5.3  1.5  3.1  1.4  0.9  0.6  5.3  0.7  1.1  2.3  8.6  0.5  9.1  0.5\n",
      " 18.7  3.2 18.8  4.6  6.7  0.2  1.7  0.6  1.8  0.6  1.9  2.7  0.3  5.9\n",
      "  4.2  1.5  3.7  0.5  4.3 13.2  1.9  5.5  0.7  6.3  1.7  1.   4.4  0.1\n",
      "  8.8  0. ]\n"
     ]
    },
    {
     "data": {
      "text/plain": [
       "(array([38., 24., 17.,  8.,  4.,  2.,  2.,  1.,  3.,  1.]),\n",
       " array([ 0. ,  2.2,  4.5,  6.7,  8.9, 11.1, 13.4, 15.6, 17.8, 20. , 22.3]),\n",
       " <a list of 10 Patch objects>)"
      ]
     },
     "execution_count": 4,
     "metadata": {},
     "output_type": "execute_result"
    },
    {
     "data": {
      "image/png": "[encoded data removed]",
      "text/plain": [
       "<Figure size 432x288 with 1 Axes>"
      ]
     },
     "metadata": {
      "needs_background": "light"
     },
     "output_type": "display_data"
    }
   ],
   "source": [
    "np.random.seed(0)\n",
    "size = 100\n",
    "lam = 0.2\n",
    "array_x = np.random.exponential(1/lam,size)\n",
    "\n",
    "np.set_printoptions(precision=1)\n",
    "print(array_x)\n",
    "plt.hist(array_x)"
   ]
  },
  {
   "cell_type": "code",
   "execution_count": 7,
   "metadata": {},
   "outputs": [
    {
     "name": "stdout",
     "output_type": "stream",
     "text": [
      "[ 7.5  4.8  6.   8.5  7.7  2.   5.9  3.7  3.8  4.8  4.3  6.9  5.5  4.2\n",
      "  4.9  4.7  7.   3.6  4.6  2.3 -1.1  5.3  5.7  2.5  8.5  1.1  4.1  3.6\n",
      "  7.1  6.9  4.3  4.8  2.2  0.   3.3  4.3  6.5  6.4  3.2  3.4  1.9  1.2\n",
      "  0.6  7.9  3.   3.1  1.5  5.6  0.8  3.6  2.2  4.8  3.   1.6  3.9  4.9\n",
      "  4.1  4.6  2.7  3.3  2.7  3.3  2.4  0.5  4.4  3.2  0.7  4.9  2.2  4.1\n",
      "  5.5  4.3  6.3  1.5  4.8  2.6  2.3  2.8  3.4  4.1  1.7  5.8  4.9  0.9\n",
      "  7.   7.8  6.4  3.6  1.9  6.1  3.2  6.4  4.4  6.   4.7  5.4  4.   7.6\n",
      "  4.3  4.8]\n"
     ]
    },
    {
     "data": {
      "text/plain": [
       "(array([ 0.,  0.,  1.,  0.,  6.,  8., 14., 16., 27., 10., 10.,  6.,  2.,\n",
       "         0.,  0.,  0.]),\n",
       " array([-4, -3, -2, -1,  0,  1,  2,  3,  4,  5,  6,  7,  8,  9, 10, 11, 12]),\n",
       " <a list of 16 Patch objects>)"
      ]
     },
     "execution_count": 7,
     "metadata": {},
     "output_type": "execute_result"
    },
    {
     "data": {
      "image/png": "[encoded data removed]",
      "text/plain": [
       "<Figure size 432x288 with 1 Axes>"
      ]
     },
     "metadata": {
      "needs_background": "light"
     },
     "output_type": "display_data"
    }
   ],
   "source": [
    "np.random.seed(0)\n",
    "\n",
    "size = 100\n",
    "mu = 4\n",
    "sig = 2\n",
    "\n",
    "array_x = np.random.normal(mu,sig,size)\n",
    "np.set_printoptions(precision=1)\n",
    "print(array_x)\n",
    "plt.hist(array_x,bins=range(-4,13))"
   ]
  },
  {
   "cell_type": "code",
   "execution_count": 4,
   "metadata": {},
   "outputs": [
    {
     "data": {
      "text/plain": [
       "(array([585., 228., 102.,  50.,  23.,   7.,   1.,   2.,   1.,   1.]),\n",
       " array([2.73056995e-03, 4.28297289e+00, 8.56321521e+00, 1.28434575e+01,\n",
       "        1.71236999e+01, 2.14039422e+01, 2.56841845e+01, 2.99644268e+01,\n",
       "        3.42446691e+01, 3.85249115e+01, 4.28051538e+01]),\n",
       " <a list of 10 Patch objects>)"
      ]
     },
     "execution_count": 4,
     "metadata": {},
     "output_type": "execute_result"
    },
    {
     "data": {
      "image/png": "[encoded data removed]",
      "text/plain": [
       "<Figure size 432x288 with 1 Axes>"
      ]
     },
     "metadata": {
      "needs_background": "light"
     },
     "output_type": "display_data"
    }
   ],
   "source": [
    "%matplotlib inline\n",
    "import numpy as np\n",
    "import matplotlib.pyplot as plt\n",
    "\n",
    "np.random.seed(0)\n",
    "size = 1000\n",
    "lam = 0.2\n",
    "array_x = np.random.exponential(1/lam,size)\n",
    "plt.hist(array_x)"
   ]
  },
  {
   "cell_type": "code",
   "execution_count": 5,
   "metadata": {},
   "outputs": [
    {
     "data": {
      "text/plain": [
       "(array([ 97., 106.,  93.,  92., 104., 107., 101., 100.,  97., 103.]),\n",
       " array([2.00068625, 2.59901133, 3.19733642, 3.79566151, 4.39398659,\n",
       "        4.99231168, 5.59063676, 6.18896185, 6.78728693, 7.38561202,\n",
       "        7.9839371 ]),\n",
       " <a list of 10 Patch objects>)"
      ]
     },
     "execution_count": 5,
     "metadata": {},
     "output_type": "execute_result"
    },
    {
     "data": {
      "image/png": "[encoded data removed]",
      "text/plain": [
       "<Figure size 432x288 with 1 Axes>"
      ]
     },
     "metadata": {
      "needs_background": "light"
     },
     "output_type": "display_data"
    }
   ],
   "source": [
    "np.random.seed(1)\n",
    "size = 1000\n",
    "alpha = 2.0\n",
    "beta = 8.0\n",
    "array_x = np.random.uniform(alpha,beta,size)\n",
    "plt.hist(array_x)"
   ]
  },
  {
   "cell_type": "code",
   "execution_count": null,
   "metadata": {},
   "outputs": [],
   "source": []
  }
 ],
 "metadata": {
  "kernelspec": {
   "display_name": "Python 3",
   "language": "python",
   "name": "python3"
  },
  "language_info": {
   "codemirror_mode": {
    "name": "ipython",
    "version": 3
   },
   "file_extension": ".py",
   "mimetype": "text/x-python",
   "name": "python",
   "nbconvert_exporter": "python",
   "pygments_lexer": "ipython3",
   "version": "3.7.3"
  }
 },
 "nbformat": 4,
 "nbformat_minor": 2
}
