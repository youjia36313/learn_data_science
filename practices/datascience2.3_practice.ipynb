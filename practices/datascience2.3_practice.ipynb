{
 "cells": [
  {
   "cell_type": "code",
   "execution_count": 2,
   "metadata": {},
   "outputs": [
    {
     "name": "stdout",
     "output_type": "stream",
     "text": [
      "-1\n"
     ]
    }
   ],
   "source": [
    "import numpy as np\n",
    "list_a = [3,5]\n",
    "list_b = [2,4]\n",
    "array_a = np.array(list_a)\n",
    "array_b = np.array(list_b)\n",
    "list_c = list_a + list_b\n",
    "array_c = array_a + array_b\n",
    "m1 = max(list_c)-min(list_c)\n",
    "m2 = max(array_c)-min(array_c)\n",
    "print(m1-m2)"
   ]
  },
  {
   "cell_type": "code",
   "execution_count": 5,
   "metadata": {},
   "outputs": [
    {
     "name": "stdout",
     "output_type": "stream",
     "text": [
      "797.98\n",
      "618.50\n",
      "387286.69\n",
      "622.32\n"
     ]
    }
   ],
   "source": [
    "import numpy as np\n",
    "\n",
    "array_x = np.loadtxt(fname='data1.csv',delimiter=',')\n",
    "m = np.mean(array_x)\n",
    "med = np.median(array_x)\n",
    "var = np.var(array_x)\n",
    "std = np.std(array_x)\n",
    "\n",
    "print('{0:.2f}'.format(m))\n",
    "print('{0:.2f}'.format(med))\n",
    "print('{0:.2f}'.format(var))\n",
    "print('{0:.2f}'.format(std))"
   ]
  },
  {
   "cell_type": "code",
   "execution_count": null,
   "metadata": {},
   "outputs": [],
   "source": []
  }
 ],
 "metadata": {
  "kernelspec": {
   "display_name": "Python 3",
   "language": "python",
   "name": "python3"
  },
  "language_info": {
   "codemirror_mode": {
    "name": "ipython",
    "version": 3
   },
   "file_extension": ".py",
   "mimetype": "text/x-python",
   "name": "python",
   "nbconvert_exporter": "python",
   "pygments_lexer": "ipython3",
   "version": "3.7.3"
  }
 },
 "nbformat": 4,
 "nbformat_minor": 2
}
