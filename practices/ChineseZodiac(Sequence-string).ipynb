{
 "cells": [
  {
   "cell_type": "code",
   "execution_count": 27,
   "metadata": {},
   "outputs": [
    {
     "name": "stdout",
     "output_type": "stream",
     "text": [
      "['Rat', 'Ox', 'Tiger', 'Rabbit']\n",
      "Pig\n",
      "True\n",
      "False\n",
      "['Rat', 'Ox', 'Tiger', 'Rabbit', 'Dragon', 'Snake', 'Horse', 'Goat', 'Monkey', 'Rooster', 'Dog', 'Pig', 'Rat', 'Ox', 'Tiger', 'Rabbit', 'Dragon', 'Snake', 'Horse', 'Goat', 'Monkey', 'Rooster', 'Dog', 'Pig', 'Rat', 'Ox', 'Tiger', 'Rabbit', 'Dragon', 'Snake', 'Horse', 'Goat', 'Monkey', 'Rooster', 'Dog', 'Pig']\n"
     ]
    }
   ],
   "source": [
    "#Determine Chinese Zodiac by the year(EnglishVersion)\n",
    "List_ChineseZodiac=['Rat','Ox','Tiger','Rabbit','Dragon','Snake','Horse','Goat','Monkey','Rooster','Dog','Pig']\n",
    "print(List_ChineseZodiac[0:4])\n",
    "print(List_ChineseZodiac[-1])\n",
    "print('Dog' in List_ChineseZodiac)\n",
    "print('Dog' not in List_ChineseZodiac)\n",
    "print(List_ChineseZodiac * 3)"
   ]
  },
  {
   "cell_type": "code",
   "execution_count": 26,
   "metadata": {},
   "outputs": [
    {
     "name": "stdout",
     "output_type": "stream",
     "text": [
      "鼠牛虎兎\n",
      "豚\n",
      "True\n",
      "False\n"
     ]
    },
    {
     "data": {
      "text/plain": [
       "'鼠牛虎兎龍蛇馬羊猿鶏犬豚鼠牛虎兎龍蛇馬羊猿鶏犬豚'"
      ]
     },
     "execution_count": 26,
     "metadata": {},
     "output_type": "execute_result"
    }
   ],
   "source": [
    "#Determine Chinese Zodiac by the year(JapaneseVersion)\n",
    "ChineseZodiac = '鼠牛虎兎龍蛇馬羊猿鶏犬豚'\n",
    "print(ChineseZodiac[0:4])\n",
    "print(ChineseZodiac[-1])\n",
    "print('犬' in ChineseZodiac)\n",
    "print('犬' not in ChineseZodiac)\n",
    "print(ChineseZodiac + ChineseZodiac)"
   ]
  },
  {
   "cell_type": "code",
   "execution_count": 13,
   "metadata": {},
   "outputs": [
    {
     "name": "stdout",
     "output_type": "stream",
     "text": [
      "R\n"
     ]
    }
   ],
   "source": [
    "#the failed case of English version\n",
    "ChineseZodiac = \"Rat,Ox,Tiger,Rabbit,Dragon,Snake,Horse,Goat,Monkey,Rooster,Dog,Pig\"\n",
    "print(ChineseZodiac[0])"
   ]
  },
  {
   "cell_type": "code",
   "execution_count": 19,
   "metadata": {},
   "outputs": [
    {
     "name": "stdout",
     "output_type": "stream",
     "text": [
      "犬\n"
     ]
    }
   ],
   "source": [
    "#Algorithm Japanese\n",
    "ChineseZodiac = '猿鶏犬豚鼠牛虎兎龍蛇馬羊'\n",
    "year = 2018\n",
    "print(ChineseZodiac[year%12])"
   ]
  },
  {
   "cell_type": "code",
   "execution_count": 1,
   "metadata": {},
   "outputs": [
    {
     "name": "stdout",
     "output_type": "stream",
     "text": [
      "2018 is 犬\n"
     ]
    }
   ],
   "source": [
    "#Algorithm Japanese\n",
    "ChineseZodiac = '猿鶏犬豚鼠牛虎兎龍蛇馬羊'\n",
    "year = 2018\n",
    "print('%s is %s'%(year,ChineseZodiac[year%12]))"
   ]
  },
  {
   "cell_type": "code",
   "execution_count": null,
   "metadata": {},
   "outputs": [],
   "source": []
  }
 ],
 "metadata": {
  "kernelspec": {
   "display_name": "Python 3",
   "language": "python",
   "name": "python3"
  },
  "language_info": {
   "codemirror_mode": {
    "name": "ipython",
    "version": 3
   },
   "file_extension": ".py",
   "mimetype": "text/x-python",
   "name": "python",
   "nbconvert_exporter": "python",
   "pygments_lexer": "ipython3",
   "version": "3.7.3"
  }
 },
 "nbformat": 4,
 "nbformat_minor": 2
}
