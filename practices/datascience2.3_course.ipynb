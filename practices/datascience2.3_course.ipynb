{
 "cells": [
  {
   "cell_type": "code",
   "execution_count": 4,
   "metadata": {},
   "outputs": [
    {
     "name": "stdout",
     "output_type": "stream",
     "text": [
      "list_a= [1, 4, 6]\n",
      "array_a= [1 4 6]\n",
      "list_b= [3, 2, 1]\n",
      "array_b= [3 2 1]\n",
      "list_c= [1, 4, 6, 3, 2, 1]\n",
      "array_c= [4 6 7]\n"
     ]
    }
   ],
   "source": [
    "import numpy as np\n",
    "list_a = [1,4,6]\n",
    "array_a = np.array(list_a)\n",
    "print('list_a=',list_a)\n",
    "print('array_a=',array_a)\n",
    "list_b = [3,2,1]\n",
    "array_b = np.array(list_b)\n",
    "print('list_b=',list_b)\n",
    "print('array_b=',array_b)\n",
    "list_c = list_a + list_b\n",
    "array_c = array_a + array_b\n",
    "print('list_c=',list_c)\n",
    "print('array_c=',array_c)"
   ]
  },
  {
   "cell_type": "code",
   "execution_count": 5,
   "metadata": {},
   "outputs": [
    {
     "name": "stdout",
     "output_type": "stream",
     "text": [
      "3.6666666666666665\n"
     ]
    }
   ],
   "source": [
    "m = np.mean(array_a)\n",
    "print(m)"
   ]
  },
  {
   "cell_type": "code",
   "execution_count": 9,
   "metadata": {},
   "outputs": [
    {
     "name": "stdout",
     "output_type": "stream",
     "text": [
      "794.813\n"
     ]
    }
   ],
   "source": [
    "array_x = np.loadtxt(fname='income.csv',delimiter=',')\n",
    "#print(array_x)\n",
    "mean_01 = np.mean(array_y)\n",
    "print(mean_01)"
   ]
  },
  {
   "cell_type": "code",
   "execution_count": 12,
   "metadata": {},
   "outputs": [
    {
     "data": {
      "text/plain": [
       "(array([204., 312., 151., 109.,  79.,  44.,  35.,  28.,  24.,  14.]),\n",
       " array([   9. ,  298.3,  587.6,  876.9, 1166.2, 1455.5, 1744.8, 2034.1,\n",
       "        2323.4, 2612.7, 2902. ]),\n",
       " <a list of 10 Patch objects>)"
      ]
     },
     "execution_count": 12,
     "metadata": {},
     "output_type": "execute_result"
    },
    {
     "data": {
      "image/png": "[encoded data removed]",
      "text/plain": [
       "<Figure size 432x288 with 1 Axes>"
      ]
     },
     "metadata": {
      "needs_background": "light"
     },
     "output_type": "display_data"
    }
   ],
   "source": [
    "%matplotlib inline\n",
    "import numpy as np\n",
    "import matplotlib.pyplot as plt\n",
    "array_x = np.loadtxt(fname='income.csv',delimiter=',')\n",
    "plt.hist(array_x)"
   ]
  },
  {
   "cell_type": "code",
   "execution_count": 13,
   "metadata": {},
   "outputs": [
    {
     "data": {
      "text/plain": [
       "(array([ 29.,  61., 114., 114., 106.,  92.,  68.,  50.,  33.,  30.,  38.,\n",
       "         41.,  30.,  32.,  17.,   9.,  19.,  16.,   8.,  17.,  10.,  10.,\n",
       "          7.,  11.,   9.,   9.,   6.,   3.,   6.,   5.]),\n",
       " array([   9.        ,  105.43333333,  201.86666667,  298.3       ,\n",
       "         394.73333333,  491.16666667,  587.6       ,  684.03333333,\n",
       "         780.46666667,  876.9       ,  973.33333333, 1069.76666667,\n",
       "        1166.2       , 1262.63333333, 1359.06666667, 1455.5       ,\n",
       "        1551.93333333, 1648.36666667, 1744.8       , 1841.23333333,\n",
       "        1937.66666667, 2034.1       , 2130.53333333, 2226.96666667,\n",
       "        2323.4       , 2419.83333333, 2516.26666667, 2612.7       ,\n",
       "        2709.13333333, 2805.56666667, 2902.        ]),\n",
       " <a list of 30 Patch objects>)"
      ]
     },
     "execution_count": 13,
     "metadata": {},
     "output_type": "execute_result"
    },
    {
     "data": {
      "image/png": "[encoded data removed]",
      "text/plain": [
       "<Figure size 432x288 with 1 Axes>"
      ]
     },
     "metadata": {
      "needs_background": "light"
     },
     "output_type": "display_data"
    }
   ],
   "source": [
    "plt.hist(array_x,bins=30)"
   ]
  },
  {
   "cell_type": "code",
   "execution_count": 16,
   "metadata": {},
   "outputs": [
    {
     "name": "stdout",
     "output_type": "stream",
     "text": [
      "算術平均: 794.813000\n",
      "中央値: 571.000000\n",
      "標準偏差: 626.373879\n",
      "分散: 626.373879\n"
     ]
    }
   ],
   "source": [
    "m = np.mean(array_x)\n",
    "med = np.median(array_x)\n",
    "var = np.var(array_x)\n",
    "std = np.std(array_x)\n",
    "print('算術平均: {0:2f}'.format(m))\n",
    "print('中央値: {0:2f}'.format(med))\n",
    "print('標準偏差: {0:2f}'.format(std))\n",
    "print('分散: {0:2f}'.format(std))"
   ]
  },
  {
   "cell_type": "code",
   "execution_count": 20,
   "metadata": {},
   "outputs": [
    {
     "name": "stdout",
     "output_type": "stream",
     "text": [
      "算術平均: 794.81\n",
      "中央値: 571.00\n",
      "標準偏差: 626.37\n",
      "分散:  392344.24\n"
     ]
    }
   ],
   "source": [
    "print(f'算術平均: {m:.2f}')\n",
    "print(f'中央値: {med:.2f}')\n",
    "print(f'標準偏差: {std:.2f}')\n",
    "print(f'分散:  {var:.2f}')"
   ]
  },
  {
   "cell_type": "code",
   "execution_count": null,
   "metadata": {},
   "outputs": [],
   "source": []
  }
 ],
 "metadata": {
  "kernelspec": {
   "display_name": "Python 3",
   "language": "python",
   "name": "python3"
  },
  "language_info": {
   "codemirror_mode": {
    "name": "ipython",
    "version": 3
   },
   "file_extension": ".py",
   "mimetype": "text/x-python",
   "name": "python",
   "nbconvert_exporter": "python",
   "pygments_lexer": "ipython3",
   "version": "3.7.3"
  }
 },
 "nbformat": 4,
 "nbformat_minor": 2
}
