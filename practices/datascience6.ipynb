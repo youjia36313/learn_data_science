{
 "cells": [
  {
   "cell_type": "code",
   "execution_count": 1,
   "metadata": {},
   "outputs": [
    {
     "name": "stdout",
     "output_type": "stream",
     "text": [
      "10\n"
     ]
    }
   ],
   "source": [
    "su = 0\n",
    "for x in [1,2,3,4]:\n",
    "    su = su + x\n",
    "print(su)"
   ]
  },
  {
   "cell_type": "code",
   "execution_count": 2,
   "metadata": {},
   "outputs": [
    {
     "name": "stdout",
     "output_type": "stream",
     "text": [
      "0\n",
      "1\n",
      "2\n",
      "finished\n"
     ]
    }
   ],
   "source": [
    "for i in range(3):\n",
    "    print(i)\n",
    "print('finished')"
   ]
  },
  {
   "cell_type": "code",
   "execution_count": 17,
   "metadata": {},
   "outputs": [
    {
     "name": "stdout",
     "output_type": "stream",
     "text": [
      "the mean of varience is: 3.9717606870987323\n"
     ]
    },
    {
     "data": {
      "text/plain": [
       "(array([104., 195., 321., 380., 460., 477., 478., 479., 482., 494., 460.,\n",
       "        435., 428., 405., 372., 326., 340., 328., 269., 241., 210., 222.,\n",
       "        181., 179., 168., 142., 133., 120., 112., 101.,  94.,  75.,  78.,\n",
       "         76.,  58.,  61.,  51.,  67.,  44.,  38.,  41.,  29.,  33.,  16.,\n",
       "         26.,  12.,  17.,  11.,  12.,  14.,  15.,  16.,   7.,   5.,   5.,\n",
       "          8.,   2.,   6.,   2.,   2.,   3.,   3.,   5.,   7.,   2.,   1.,\n",
       "          1.,   1.,   1.,   0.,   1.,   1.,   0.,   1.,   2.,   0.,   0.,\n",
       "          1.,   1.,   1.,   1.,   0.,   2.,   0.,   0.,   0.,   1.,   0.,\n",
       "          0.,   0.,   0.,   0.,   0.,   0.,   0.,   0.,   0.,   0.,   0.,\n",
       "          1.]),\n",
       " array([ 0.03150397,  0.29359819,  0.55569241,  0.81778663,  1.07988085,\n",
       "         1.34197507,  1.60406929,  1.86616351,  2.12825773,  2.39035195,\n",
       "         2.65244617,  2.91454039,  3.17663462,  3.43872884,  3.70082306,\n",
       "         3.96291728,  4.2250115 ,  4.48710572,  4.74919994,  5.01129416,\n",
       "         5.27338838,  5.5354826 ,  5.79757682,  6.05967104,  6.32176526,\n",
       "         6.58385948,  6.8459537 ,  7.10804792,  7.37014214,  7.63223636,\n",
       "         7.89433059,  8.15642481,  8.41851903,  8.68061325,  8.94270747,\n",
       "         9.20480169,  9.46689591,  9.72899013,  9.99108435, 10.25317857,\n",
       "        10.51527279, 10.77736701, 11.03946123, 11.30155545, 11.56364967,\n",
       "        11.82574389, 12.08783811, 12.34993233, 12.61202655, 12.87412078,\n",
       "        13.136215  , 13.39830922, 13.66040344, 13.92249766, 14.18459188,\n",
       "        14.4466861 , 14.70878032, 14.97087454, 15.23296876, 15.49506298,\n",
       "        15.7571572 , 16.01925142, 16.28134564, 16.54343986, 16.80553408,\n",
       "        17.0676283 , 17.32972252, 17.59181674, 17.85391097, 18.11600519,\n",
       "        18.37809941, 18.64019363, 18.90228785, 19.16438207, 19.42647629,\n",
       "        19.68857051, 19.95066473, 20.21275895, 20.47485317, 20.73694739,\n",
       "        20.99904161, 21.26113583, 21.52323005, 21.78532427, 22.04741849,\n",
       "        22.30951271, 22.57160694, 22.83370116, 23.09579538, 23.3578896 ,\n",
       "        23.61998382, 23.88207804, 24.14417226, 24.40626648, 24.6683607 ,\n",
       "        24.93045492, 25.19254914, 25.45464336, 25.71673758, 25.9788318 ,\n",
       "        26.24092602]),\n",
       " <a list of 100 Patch objects>)"
      ]
     },
     "execution_count": 17,
     "metadata": {},
     "output_type": "execute_result"
    },
    {
     "data": {
      "image/png": "[encoded data removed]",
      "text/plain": [
       "<Figure size 432x288 with 1 Axes>"
      ]
     },
     "metadata": {
      "needs_background": "light"
     },
     "output_type": "display_data"
    }
   ],
   "source": [
    "%matplotlib inline\n",
    "import numpy as np\n",
    "import matplotlib.pyplot as plt\n",
    "\n",
    "np.random.seed(0)\n",
    "n = 5\n",
    "mu,sig = 3,2\n",
    "list_s2 = []\n",
    "for i in range(10000):\n",
    "    array_x = np.random.normal(mu,sig,n)\n",
    "    #print(array_x)\n",
    "    s2 = np.var(array_x,ddof=1)\n",
    "    #print(s2)\n",
    "    list_s2+=[s2]\n",
    "    #print(list_s2)\n",
    "print('the mean of varience is:',np.mean(list_s2))\n",
    "plt.hist(list_s2,bins=100)\n",
    "    "
   ]
  },
  {
   "cell_type": "code",
   "execution_count": null,
   "metadata": {},
   "outputs": [],
   "source": []
  }
 ],
 "metadata": {
  "kernelspec": {
   "display_name": "Python 3",
   "language": "python",
   "name": "python3"
  },
  "language_info": {
   "codemirror_mode": {
    "name": "ipython",
    "version": 3
   },
   "file_extension": ".py",
   "mimetype": "text/x-python",
   "name": "python",
   "nbconvert_exporter": "python",
   "pygments_lexer": "ipython3",
   "version": "3.7.3"
  }
 },
 "nbformat": 4,
 "nbformat_minor": 2
}
